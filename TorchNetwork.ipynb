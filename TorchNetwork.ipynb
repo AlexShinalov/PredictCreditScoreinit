{
 "cells": [
  {
   "cell_type": "code",
   "execution_count": 124,
   "id": "initial_id",
   "metadata": {
    "collapsed": true,
    "ExecuteTime": {
     "end_time": "2024-05-28T20:10:59.605581Z",
     "start_time": "2024-05-28T20:10:59.602575Z"
    }
   },
   "outputs": [],
   "source": [
    "import pandas as pd\n",
    "from sklearn.model_selection import train_test_split\n",
    "from sklearn.preprocessing import StandardScaler\n",
    "import torch\n",
    "from torch.utils.data import DataLoader, TensorDataset\n",
    "import yaml\n",
    "import torch.nn as nn\n",
    "import torch.nn.functional as F\n",
    "from sklearn.metrics import accuracy_score\n",
    "import matplotlib.pyplot as plt\n",
    "import numpy as np"
   ]
  },
  {
   "cell_type": "code",
   "outputs": [],
   "source": [
    "with open ('config.yaml', 'r') as f:\n",
    "    cfg = yaml.safe_load(f)\n",
    "    "
   ],
   "metadata": {
    "collapsed": false,
    "ExecuteTime": {
     "end_time": "2024-05-31T21:15:17.098300Z",
     "start_time": "2024-05-31T21:15:17.061769Z"
    }
   },
   "id": "3ed2de45ea101bba",
   "execution_count": 227
  },
  {
   "cell_type": "code",
   "outputs": [],
   "source": [
    "train = pd.read_csv(cfg['selary']['train_refactor'])\n",
    "test = pd.read_csv(cfg['selary']['test_refactor'])"
   ],
   "metadata": {
    "collapsed": false,
    "ExecuteTime": {
     "end_time": "2024-05-31T21:15:18.817093Z",
     "start_time": "2024-05-31T21:15:18.703595Z"
    }
   },
   "id": "e769fcbfb60405de",
   "execution_count": 228
  },
  {
   "cell_type": "code",
   "outputs": [
    {
     "data": {
      "text/plain": "((35073, 24), (3897, 24), (7737, 24))"
     },
     "execution_count": 229,
     "metadata": {},
     "output_type": "execute_result"
    }
   ],
   "source": [
    "\n",
    "y_train = train['Credit_Score']\n",
    "x_train = train.drop('Credit_Score', axis = 1)\n",
    "\n",
    "X_train, X_val,  Y_train, Y_val = train_test_split(x_train, y_train, test_size =0.1, random_state =42)\n",
    "\n",
    "Y_test = test['Credit_Score']\n",
    "X_test = test.drop('Credit_Score', axis = 1)\n",
    "\n",
    "X_train.shape, X_val.shape, X_test.shape"
   ],
   "metadata": {
    "collapsed": false,
    "ExecuteTime": {
     "end_time": "2024-05-31T21:15:20.465696Z",
     "start_time": "2024-05-31T21:15:20.429139Z"
    }
   },
   "id": "156ea0721cb3021e",
   "execution_count": 229
  },
  {
   "cell_type": "code",
   "outputs": [],
   "source": [
    "scaler = StandardScaler()\n",
    "X_train = scaler.fit_transform(X_train)\n",
    "X_test = scaler.transform(X_test)\n",
    "X_val = scaler.transform(X_val)\n"
   ],
   "metadata": {
    "collapsed": false,
    "ExecuteTime": {
     "end_time": "2024-05-31T21:15:25.489974Z",
     "start_time": "2024-05-31T21:15:25.456814Z"
    }
   },
   "id": "616da371c7c5fe58",
   "execution_count": 230
  },
  {
   "cell_type": "code",
   "outputs": [],
   "source": [
    "X_train = torch.tensor(X_train, dtype=torch.float32)\n",
    "Y_train = torch.tensor(Y_train.values, dtype=torch.long)\n",
    "X_test = torch.tensor(X_test, dtype=torch.float32)\n",
    "X_val = torch.tensor(X_val, dtype=torch.float32)\n",
    "Y_train = torch.tensor(Y_train.values, dtype=torch.long)\n",
    "Y_test = torch.tensor(Y_test, dtype=torch.long)\n",
    "Y_val = torch.tensor(Y_val.values, dtype=torch.long)"
   ],
   "metadata": {
    "collapsed": false,
    "ExecuteTime": {
     "end_time": "2024-05-31T21:15:28.078297Z",
     "start_time": "2024-05-31T21:15:28.067784Z"
    }
   },
   "id": "4bac3e0344db55f3",
   "execution_count": 231
  },
  {
   "cell_type": "code",
   "outputs": [],
   "source": [
    "train_t = TensorDataset(X_train, Y_train)\n",
    "test_t = TensorDataset(X_test, Y_test)\n",
    "train_val = TensorDataset(X_val, Y_val)"
   ],
   "metadata": {
    "collapsed": false,
    "ExecuteTime": {
     "end_time": "2024-05-31T21:15:29.329238Z",
     "start_time": "2024-05-31T21:15:29.316726Z"
    }
   },
   "id": "764d17dee7e6023",
   "execution_count": 232
  },
  {
   "cell_type": "code",
   "outputs": [],
   "source": [
    "train_loader = DataLoader(train_t, batch_size=64, shuffle=True)\n",
    "test_loader = DataLoader(test_t, batch_size=64, shuffle=True)\n",
    "val_loader = DataLoader(train_val, batch_size=64, shuffle=True)"
   ],
   "metadata": {
    "collapsed": false,
    "ExecuteTime": {
     "end_time": "2024-05-31T21:15:32.359379Z",
     "start_time": "2024-05-31T21:15:32.353345Z"
    }
   },
   "id": "8a0f57e2161520e9",
   "execution_count": 233
  },
  {
   "cell_type": "code",
   "outputs": [
    {
     "name": "stdout",
     "output_type": "stream",
     "text": [
      "24\n",
      "46.49224706946826\n",
      "45.54342643257047\n",
      "44.9729657876687\n",
      "44.4291472337285\n",
      "44.09851676714225\n",
      "43.61521797883706\n",
      "43.41993291163054\n",
      "43.015555955347466\n",
      "42.882107132770976\n",
      "42.54251405352452\n",
      "42.46359842331683\n",
      "42.22304331767754\n",
      "42.13888901765229\n",
      "41.965308705314264\n",
      "41.90572899677714\n",
      "41.835896490050146\n",
      "41.82982101792195\n",
      "41.742105365776624\n",
      "41.78198092785038\n",
      "41.586453896076954\n",
      "41.77208055531392\n",
      "41.56938731474955\n",
      "41.54536443264758\n",
      "41.554091010914476\n",
      "41.60786299529623\n",
      "41.50833948029847\n",
      "41.63388725968658\n",
      "41.414148826091015\n",
      "41.497675682677595\n",
      "41.40233707623403\n",
      "41.41685505284638\n",
      "41.46668111593997\n",
      "41.339058758782556\n",
      "41.32898183337978\n",
      "41.35983562176345\n",
      "41.31954808704189\n",
      "41.419604886750705\n",
      "41.25452750823537\n",
      "41.33311755930791\n",
      "41.358722210907544\n",
      "41.46540619506211\n",
      "41.282182155085394\n",
      "41.42620307011683\n",
      "41.52304944054025\n",
      "Overfitting early\n"
     ]
    },
    {
     "data": {
      "text/plain": "<function matplotlib.pyplot.show(close=None, block=None)>"
     },
     "execution_count": 246,
     "metadata": {},
     "output_type": "execute_result"
    },
    {
     "data": {
      "text/plain": "<Figure size 640x480 with 1 Axes>",
      "image/png": "[encoded data removed]"
     },
     "metadata": {},
     "output_type": "display_data"
    }
   ],
   "source": [
    "import torch.optim as optim\n",
    "class CreditScore(nn.Module):\n",
    "    def __init__(self, input_size):\n",
    "        super(CreditScore, self).__init__()\n",
    "        self.fc1 = nn.Linear(input_size, 64)\n",
    "        self.fc2 = nn.Linear(64, 64)\n",
    "        self.fc3 = nn.Linear(64, 64)\n",
    "        self.fc4 = nn.Linear(64, 3)\n",
    "    def forward(self, x):\n",
    "        x = F.relu(self.fc1(x))\n",
    "        x = F.relu(self.fc2(x))\n",
    "        x = F.relu(self.fc3(x))\n",
    "        x = (self.fc4(x))\n",
    "        return F.log_softmax(x, dim=1)\n",
    "        #return x\n",
    "\n",
    "size = X_train.shape[1]\n",
    "model = CreditScore(size)\n",
    "\n",
    "print(size)\n",
    "\n",
    "#criterion = nn.CrossEntropyLoss()\n",
    "criterion = nn.NLLLoss()\n",
    "optimizer = optim.Adam(model.parameters(), lr=0.0002)\n",
    "\n",
    "num_epochs = 200\n",
    "best_val_loss = float('inf')\n",
    "early_stop_counter = 0\n",
    "early_stop_patience =5\n",
    "var_loss_x=[]\n",
    "var_loss_y=[]\n",
    "epoch_c=[]\n",
    "for epch in range(num_epochs):\n",
    "    epoch_c.append(epch)\n",
    "    model.train()\n",
    "    running_loss = 0.0\n",
    "    for inputs, labels in train_loader:\n",
    "        optimizer.zero_grad()\n",
    "        outputs = model(inputs)\n",
    "        #print( labels)\n",
    "        loss = criterion(outputs, labels)\n",
    "        loss.backward()\n",
    "        optimizer.step()\n",
    "        running_loss += loss.item()  * inputs.size(0)\n",
    "        \n",
    "        \n",
    "    ephoch_loss = running_loss / len(train_loader)\n",
    "    var_loss_x.append(ephoch_loss)\n",
    "    #print(ephoch_loss)\n",
    "    \n",
    "    model.eval()\n",
    "    var_loss = 0.0\n",
    "    with torch.no_grad():\n",
    "        for inputs, labels in val_loader:\n",
    "            #inputs, labels = inputs.to(device), labels.to(device)\n",
    "            outputs = model(inputs)\n",
    "            loss = criterion(outputs, labels)\n",
    "            var_loss +=loss.item()*inputs.size(0)\n",
    "            \n",
    "        ephoch_loss_2 = var_loss / len(val_loader)\n",
    "        print(ephoch_loss_2)\n",
    "        var_loss_y.append(ephoch_loss_2)\n",
    "    if var_loss < best_val_loss:\n",
    "        best_val_loss = var_loss\n",
    "        early_stop_counter = 0\n",
    "    else: \n",
    "        early_stop_counter +=1\n",
    "        #if var_loss_y[-1] - min(var_loss_y) > 10.0:\n",
    "        if early_stop_counter  > early_stop_patience:\n",
    "            print('Overfitting early')\n",
    "            break\n",
    "        #elif ephoch_loss_2 > ephoch_loss:\n",
    "         #   print('Early stopping')\n",
    "          #  break\n",
    "    #print(epoch_c, var_loss_x, var_loss_y)\n",
    "plt.scatter(epoch_c,var_loss_x)   \n",
    "plt.scatter(epoch_c, var_loss_y)\n",
    "plt.xlabel('Epoch')\n",
    "plt.ylabel('Loss')\n",
    "plt.show\n"
   ],
   "metadata": {
    "collapsed": false,
    "ExecuteTime": {
     "end_time": "2024-05-31T22:52:27.434060Z",
     "start_time": "2024-05-31T22:51:44.525739Z"
    }
   },
   "id": "46590a47724e9300",
   "execution_count": 246
  },
  {
   "cell_type": "code",
   "outputs": [
    {
     "name": "stdout",
     "output_type": "stream",
     "text": [
      "0.7246994959286546\n"
     ]
    }
   ],
   "source": [
    "model.eval()\n",
    "predicted = []\n",
    "true_labels = []\n",
    "\n",
    "with torch.no_grad():\n",
    "    for inputs, labels in test_loader:\n",
    "        outputs = model(inputs)\n",
    "        _, predict = torch.max(outputs, 1)\n",
    "        predicted.extend(predict.numpy())\n",
    "        true_labels.extend(labels.numpy())\n",
    "accuracy = accuracy_score(true_labels, predicted) \n",
    "print(accuracy)"
   ],
   "metadata": {
    "collapsed": false,
    "ExecuteTime": {
     "end_time": "2024-05-31T22:52:36.925873Z",
     "start_time": "2024-05-31T22:52:36.826237Z"
    }
   },
   "id": "a61aea69d918d2af",
   "execution_count": 247
  },
  {
   "cell_type": "code",
   "outputs": [],
   "source": [
    "if torch.cuda.is_available():\n",
    "    print('GPU available')"
   ],
   "metadata": {
    "collapsed": false,
    "ExecuteTime": {
     "end_time": "2024-05-27T22:35:36.417354Z",
     "start_time": "2024-05-27T22:35:36.412349Z"
    }
   },
   "id": "5ba6316bf30f4a84",
   "execution_count": 20
  }
 ],
 "metadata": {
  "kernelspec": {
   "display_name": "Python 3",
   "language": "python",
   "name": "python3"
  },
  "language_info": {
   "codemirror_mode": {
    "name": "ipython",
    "version": 2
   },
   "file_extension": ".py",
   "mimetype": "text/x-python",
   "name": "python",
   "nbconvert_exporter": "python",
   "pygments_lexer": "ipython2",
   "version": "2.7.6"
  }
 },
 "nbformat": 4,
 "nbformat_minor": 5
}
